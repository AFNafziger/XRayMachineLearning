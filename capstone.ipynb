{
  "cells": [
    {
      "cell_type": "markdown",
      "metadata": {
        "id": "6WH6jd3KRDzk"
      },
      "source": [
        "#Exploratory Data"
      ]
    },
    {
      "cell_type": "markdown",
      "metadata": {
        "id": "1q-4LKBiTgW4"
      },
      "source": [
        "Mery, D.; Riffo, V.; Zscherpel, U.; Mondragón, G.; Lillo, I.; Zuccar, I.; Lobel, H.; Carrasco, M. (2015): GDXray: The database of X-ray images for nondestructive testing. Journal of Nondestructive Evaluation, 34.4:1-12."
      ]
    },
    {
      "cell_type": "code",
      "execution_count": null,
      "metadata": {
        "id": "Y8i3Tc_7RyjW"
      },
      "outputs": [],
      "source": [
        "import keras\n",
        "from keras.datasets import mnist\n",
        "from keras.layers import Dense\n",
        "from keras.models import Sequential\n",
        "import tensorflow as tf\n",
        "from matplotlib import pyplot as plt\n",
        "from random import randint\n",
        "import numpy as np\n",
        "import pandas as pd\n",
        "from sklearn.model_selection import train_test_split\n",
        "from sklearn.decomposition import PCA\n",
        "from sklearn.preprocessing import StandardScaler\n",
        "from sklearn import metrics\n",
        "import seaborn as sns\n",
        "import matplotlib.pyplot as plt\n",
        "%matplotlib inline\n",
        "plt.rcParams['figure.figsize'] = [6, 4]\n",
        "sns.set(color_codes=True)\n",
        "import tensorflow as tf\n",
        "import numpy as np\n",
        "import matplotlib.pyplot as plt\n",
        "import keras\n",
        "from keras.datasets import mnist\n",
        "from keras.layers import Dense\n",
        "from keras.models import Sequential\n",
        "import tensorflow as tf\n",
        "from matplotlib import pyplot as plt\n",
        "from random import randint\n",
        "from sklearn.model_selection import train_test_split\n",
        "from sklearn.decomposition import PCA\n",
        "from sklearn.preprocessing import StandardScaler\n",
        "from sklearn import metrics\n",
        "import seaborn as sns\n",
        "import matplotlib.pyplot as plt\n",
        "%matplotlib inline\n",
        "import numpy as np\n",
        "import pandas as pd\n",
        "from sklearn.linear_model import LinearRegression\n",
        "import seaborn as sns\n",
        "import matplotlib.pyplot as plt\n",
        "from sklearn.model_selection import train_test_split\n",
        "from sklearn import metrics\n",
        "from sklearn.svm import SVR\n",
        "plt.rcParams['figure.figsize'] = [16, 16]\n",
        "sns.set(color_codes=True)\n",
        "from sklearn.model_selection import train_test_split\n",
        "from sklearn.decomposition import PCA\n",
        "from sklearn.preprocessing import StandardScaler\n",
        "from sklearn import metrics\n",
        "import seaborn as sns\n",
        "import matplotlib.pyplot as plt\n",
        "%matplotlib inline\n",
        "import keras\n",
        "from keras.datasets import mnist\n",
        "from keras.layers import Dense\n",
        "from keras.models import Sequential\n",
        "import tensorflow as tf\n",
        "from matplotlib import pyplot as plt\n",
        "from random import randint\n",
        "from matplotlib import pyplot as plt\n",
        "from random import randint\n",
        "import numpy as np\n",
        "import warnings # supress warnings\n",
        "warnings.filterwarnings('ignore')\n",
        "from matplotlib import image\n",
        "from matplotlib import pyplot\n",
        "from PIL import Image\n",
        "import os, os.path\n",
        "from pathlib import Path\n",
        "from PIL import Image, ImageOps\n",
        "from keras.preprocessing.image import img_to_array\n",
        "\n",
        "\n",
        "fname = '/content/drive/MyDrive/mlCapstone/Dangerous'\n",
        "dan = fname\n",
        "notdan = '/content/drive/MyDrive/mlCapstone/NotDangerous'\n",
        "ndan = notdan\n"
      ]
    },
    {
      "cell_type": "code",
      "execution_count": null,
      "metadata": {
        "id": "hjhZayGtF0st"
      },
      "outputs": [],
      "source": [
        "image = image.imread(dan+'/B0001_0001.png')"
      ]
    },
    {
      "cell_type": "code",
      "execution_count": null,
      "metadata": {
        "colab": {
          "base_uri": "https://localhost:8080/",
          "height": 270
        },
        "id": "O9C73i1nKuBd",
        "outputId": "b1038ffb-cbfd-4466-aa18-47a3dcb799d0"
      },
      "outputs": [
        {
          "output_type": "display_data",
          "data": {
            "text/plain": [
              "<Figure size 432x288 with 1 Axes>"
            ],
            "image/png": "[encoded data removed]"
          },
          "metadata": {
            "needs_background": "light"
          }
        }
      ],
      "source": [
        "pyplot.imshow(image)\n",
        "pyplot.show()"
      ]
    },
    {
      "cell_type": "code",
      "execution_count": null,
      "metadata": {
        "id": "gQiM3AX37vkC"
      },
      "outputs": [],
      "source": [
        "path1 = \"/MyDrive/mlCapstone/Dangerous\"\n",
        "path2 = \"/MyDrive/mlCapstone/NotDangerous\"\n",
        "imgsD = []\n",
        "imgsN = []"
      ]
    },
    {
      "cell_type": "code",
      "execution_count": null,
      "metadata": {
        "id": "fQdFOmeeAD22"
      },
      "outputs": [],
      "source": [
        "for dirpath, dirnames, filenames in os.walk(dan):\n",
        "    for filename in filenames:\n",
        "        if filename.endswith('.png'):\n",
        "            imageR = Image.open(os.path.join(dirpath, filename))\n",
        "            imageR = img_to_array(imageR)\n",
        "            imageR = np.reshape(imageR, (-1,64))\n",
        "            imgsD.append(imageR)"
      ]
    },
    {
      "cell_type": "code",
      "execution_count": null,
      "metadata": {
        "id": "PQKXxUM9QxNc"
      },
      "outputs": [],
      "source": [
        "for dirpath, dirnames, filenames in os.walk(ndan):\n",
        "    for filename in filenames:\n",
        "        if filename.endswith('.png'):\n",
        "            imageR = Image.open(os.path.join(dirpath, filename))\n",
        "            imageR = img_to_array(imageR)\n",
        "            imageR = np.reshape(imageR, (-1,64))\n",
        "            imgsN.append(imageR)"
      ]
    },
    {
      "cell_type": "code",
      "execution_count": null,
      "metadata": {
        "colab": {
          "base_uri": "https://localhost:8080/"
        },
        "id": "-Zl-wSMXpZAq",
        "outputId": "d8d29d2f-8ec5-4761-fec6-cb172c34ff0c"
      },
      "outputs": [
        {
          "output_type": "execute_result",
          "data": {
            "text/plain": [
              "9711"
            ]
          },
          "metadata": {},
          "execution_count": 7
        }
      ],
      "source": [
        "len(imgsD)"
      ]
    },
    {
      "cell_type": "code",
      "execution_count": null,
      "metadata": {
        "colab": {
          "base_uri": "https://localhost:8080/"
        },
        "id": "GaY68f34TPZV",
        "outputId": "b4cd0003-dced-42af-c864-bf3f28423e9a"
      },
      "outputs": [
        {
          "output_type": "execute_result",
          "data": {
            "text/plain": [
              "11267"
            ]
          },
          "metadata": {},
          "execution_count": 8
        }
      ],
      "source": [
        "len(imgsN)"
      ]
    },
    {
      "cell_type": "code",
      "execution_count": null,
      "metadata": {
        "colab": {
          "base_uri": "https://localhost:8080/"
        },
        "id": "MAIbC6GeHkem",
        "outputId": "73c9a63b-ddce-4b3c-b5dd-00ea6643de36"
      },
      "outputs": [
        {
          "output_type": "stream",
          "name": "stdout",
          "text": [
            "[[ 17. 214. 243. ... 166. 165. 163.]\n",
            " [ 25. 221. 242. ... 165. 165. 164.]\n",
            " [ 30. 224. 242. ... 166. 164. 163.]\n",
            " ...\n",
            " [240. 240. 240. ... 239. 239. 239.]\n",
            " [240. 240. 240. ... 240. 240. 240.]\n",
            " [240. 240. 240. ... 240. 240. 240.]]\n"
          ]
        }
      ],
      "source": [
        "print(imgsD[3])"
      ]
    },
    {
      "cell_type": "code",
      "execution_count": null,
      "metadata": {
        "colab": {
          "base_uri": "https://localhost:8080/"
        },
        "id": "poIvzBDtmLre",
        "outputId": "510b17bb-cd85-4097-deaa-b4fce4584635"
      },
      "outputs": [
        {
          "output_type": "execute_result",
          "data": {
            "text/plain": [
              "(64, 64)"
            ]
          },
          "metadata": {},
          "execution_count": 10
        }
      ],
      "source": [
        "imgsD[3].shape"
      ]
    },
    {
      "cell_type": "code",
      "execution_count": null,
      "metadata": {
        "colab": {
          "base_uri": "https://localhost:8080/"
        },
        "id": "oD75aGcZfsq8",
        "outputId": "a0bede5c-4728-447a-ed55-a15a6b7f4e84"
      },
      "outputs": [
        {
          "output_type": "execute_result",
          "data": {
            "text/plain": [
              "(64, 64)"
            ]
          },
          "metadata": {},
          "execution_count": 11
        }
      ],
      "source": [
        "imgsN[3].shape"
      ]
    },
    {
      "cell_type": "code",
      "execution_count": null,
      "metadata": {
        "id": "mNZNer-Hh0LK"
      },
      "outputs": [],
      "source": [
        "ones = []\n",
        "t = 0\n",
        "while t <9711:\n",
        "  ones.append(1)\n",
        "  t = t +1\n",
        "zeros = []\n",
        "t = 0\n",
        "while t <11267:\n",
        "  zeros.append(0)\n",
        "  t = t +1"
      ]
    },
    {
      "cell_type": "code",
      "execution_count": null,
      "metadata": {
        "id": "EWf4u2I9uTvA"
      },
      "outputs": [],
      "source": [
        "Ydata = ones + zeros\n",
        "Ydata = np.asarray(Ydata)\n",
        "Xdata = imgsD + imgsN\n",
        "Xdata = np.asarray(Xdata)\n",
        "\n",
        "SXdata = Xdata\n",
        "SYdata = Ydata\n",
        "CXdata = Xdata\n",
        "CYdata = Ydata"
      ]
    },
    {
      "cell_type": "code",
      "source": [
        "Xdata.shape"
      ],
      "metadata": {
        "colab": {
          "base_uri": "https://localhost:8080/"
        },
        "id": "BAtAVXNwNhC7",
        "outputId": "710e5dfe-2d74-42e1-e575-6e373c371d75"
      },
      "execution_count": null,
      "outputs": [
        {
          "output_type": "execute_result",
          "data": {
            "text/plain": [
              "(20978, 64, 64)"
            ]
          },
          "metadata": {},
          "execution_count": 14
        }
      ]
    },
    {
      "cell_type": "code",
      "execution_count": null,
      "metadata": {
        "id": "uU3jeetwXW2H"
      },
      "outputs": [],
      "source": [
        "CXdata = CXdata.reshape(20978, 64, 64, 1)"
      ]
    },
    {
      "cell_type": "code",
      "execution_count": null,
      "metadata": {
        "id": "WAzztlKHYX73"
      },
      "outputs": [],
      "source": [
        "num_classes = 2\n",
        "CYdata = tf.keras.utils.to_categorical(CYdata, num_classes)"
      ]
    },
    {
      "cell_type": "code",
      "execution_count": null,
      "metadata": {
        "colab": {
          "base_uri": "https://localhost:8080/"
        },
        "id": "JmlLrYLhcyd0",
        "outputId": "7c5457c1-3de7-47c9-fb5b-a0d7c129c51c"
      },
      "outputs": [
        {
          "output_type": "execute_result",
          "data": {
            "text/plain": [
              "20978"
            ]
          },
          "metadata": {},
          "execution_count": 17
        }
      ],
      "source": [
        "len(Xdata)"
      ]
    },
    {
      "cell_type": "code",
      "execution_count": null,
      "metadata": {
        "colab": {
          "base_uri": "https://localhost:8080/",
          "height": 248
        },
        "id": "dY5dhiGkC6nJ",
        "outputId": "90132a07-d7b7-4f16-93bc-80276231f859"
      },
      "outputs": [
        {
          "output_type": "display_data",
          "data": {
            "text/plain": [
              "<Figure size 432x288 with 64 Axes>"
            ],
            "image/png": "[encoded data removed]"
          },
          "metadata": {
            "needs_background": "light"
          }
        }
      ],
      "source": [
        "for i in range(64):\n",
        "    ax = plt.subplot(8, 8, i+1)\n",
        "    ax.axis('off')\n",
        "    plt.imshow(Xdata[randint(0, Xdata.shape[0])], cmap='Greys')"
      ]
    },
    {
      "cell_type": "markdown",
      "metadata": {
        "id": "mUIUaONb7shV"
      },
      "source": [
        "#Multilayer NN"
      ]
    },
    {
      "cell_type": "code",
      "execution_count": null,
      "metadata": {
        "id": "jXrTfqEK_i6X"
      },
      "outputs": [],
      "source": [
        "image_size = 4096\n",
        "Xdata = Xdata.reshape(Xdata.shape[0], image_size)\n"
      ]
    },
    {
      "cell_type": "code",
      "source": [],
      "metadata": {
        "id": "sz4ZEFWjNnX0"
      },
      "execution_count": null,
      "outputs": []
    },
    {
      "cell_type": "code",
      "execution_count": null,
      "metadata": {
        "id": "gkIuQnWNAYH5"
      },
      "outputs": [],
      "source": [
        "num_classes = 2\n",
        "Ydata = tf.keras.utils.to_categorical(Ydata, num_classes)"
      ]
    },
    {
      "cell_type": "code",
      "execution_count": null,
      "metadata": {
        "id": "kH8mEbcqCvoS"
      },
      "outputs": [],
      "source": [
        "X_train, X_test, y_train, y_test = train_test_split(Xdata, Ydata, test_size=0.25, random_state=1)"
      ]
    },
    {
      "cell_type": "code",
      "execution_count": null,
      "metadata": {
        "colab": {
          "base_uri": "https://localhost:8080/"
        },
        "id": "xrLV5KuYDmBw",
        "outputId": "3076cb48-3ad6-4847-b579-72a5473d04c2"
      },
      "outputs": [
        {
          "output_type": "stream",
          "name": "stdout",
          "text": [
            "Model: \"sequential\"\n",
            "_________________________________________________________________\n",
            " Layer (type)                Output Shape              Param #   \n",
            "=================================================================\n",
            " dense (Dense)               (None, 4096)              16781312  \n",
            "                                                                 \n",
            " dense_1 (Dense)             (None, 4096)              16781312  \n",
            "                                                                 \n",
            " dense_2 (Dense)             (None, 2)                 8194      \n",
            "                                                                 \n",
            "=================================================================\n",
            "Total params: 33,570,818\n",
            "Trainable params: 33,570,818\n",
            "Non-trainable params: 0\n",
            "_________________________________________________________________\n"
          ]
        }
      ],
      "source": [
        "model = Sequential()\n",
        "\n",
        "model.add(Dense(units=4096, activation='sigmoid', input_shape=(image_size,)))\n",
        "model.add(Dense(units=4096, activation='sigmoid'))\n",
        "model.add(Dense(units=num_classes, activation='softmax'))\n",
        "\n",
        "model.summary()"
      ]
    },
    {
      "cell_type": "code",
      "execution_count": null,
      "metadata": {
        "colab": {
          "base_uri": "https://localhost:8080/"
        },
        "id": "t4HMZ0dCDqJE",
        "outputId": "1ac8ebfc-d4e2-4010-984a-9679e9a9106f"
      },
      "outputs": [
        {
          "output_type": "stream",
          "name": "stdout",
          "text": [
            "Epoch 1/10\n",
            "142/142 [==============================] - 52s 359ms/step - loss: 1.7662 - accuracy: 0.5490 - val_loss: 1.2108 - val_accuracy: 0.6080\n",
            "Epoch 2/10\n",
            "142/142 [==============================] - 51s 357ms/step - loss: 0.5472 - accuracy: 0.7730 - val_loss: 0.3731 - val_accuracy: 0.8259\n",
            "Epoch 3/10\n",
            "142/142 [==============================] - 51s 358ms/step - loss: 0.3012 - accuracy: 0.8914 - val_loss: 0.3603 - val_accuracy: 0.8367\n",
            "Epoch 4/10\n",
            "142/142 [==============================] - 51s 359ms/step - loss: 0.3836 - accuracy: 0.8422 - val_loss: 0.2153 - val_accuracy: 0.9409\n",
            "Epoch 5/10\n",
            "142/142 [==============================] - 51s 360ms/step - loss: 0.2877 - accuracy: 0.8948 - val_loss: 0.3940 - val_accuracy: 0.8183\n",
            "Epoch 6/10\n",
            "142/142 [==============================] - 51s 358ms/step - loss: 0.4498 - accuracy: 0.8260 - val_loss: 0.1839 - val_accuracy: 0.9498\n",
            "Epoch 7/10\n",
            "142/142 [==============================] - 51s 357ms/step - loss: 0.3464 - accuracy: 0.8673 - val_loss: 0.1928 - val_accuracy: 0.9352\n",
            "Epoch 8/10\n",
            "142/142 [==============================] - 51s 358ms/step - loss: 0.4142 - accuracy: 0.8282 - val_loss: 1.1061 - val_accuracy: 0.5248\n",
            "Epoch 9/10\n",
            "142/142 [==============================] - 51s 358ms/step - loss: 0.3300 - accuracy: 0.8696 - val_loss: 0.3344 - val_accuracy: 0.8412\n",
            "Epoch 10/10\n",
            "142/142 [==============================] - 51s 359ms/step - loss: 0.3482 - accuracy: 0.8534 - val_loss: 0.1696 - val_accuracy: 0.9504\n"
          ]
        }
      ],
      "source": [
        "model.compile(optimizer=\"sgd\", loss='categorical_crossentropy', metrics=['accuracy'])\n",
        "history = model.fit(X_train, y_train, batch_size=100, epochs=10, verbose=True, validation_split=.1)\n",
        "loss, accuracy  = model.evaluate(X_test, y_test, verbose=False)"
      ]
    },
    {
      "cell_type": "code",
      "execution_count": null,
      "metadata": {
        "colab": {
          "base_uri": "https://localhost:8080/",
          "height": 336
        },
        "id": "L7AL_xBbEKcS",
        "outputId": "a3a8ac55-9cf2-48b5-d8ce-833be5093b63"
      },
      "outputs": [
        {
          "output_type": "display_data",
          "data": {
            "text/plain": [
              "<Figure size 432x288 with 1 Axes>"
            ],
            "image/png": "[encoded data removed]"
          },
          "metadata": {
            "needs_background": "light"
          }
        },
        {
          "output_type": "stream",
          "name": "stdout",
          "text": [
            "Test loss: 0.198\n",
            "Test accuracy: 0.939\n"
          ]
        }
      ],
      "source": [
        "plt.plot(history.history['accuracy'])\n",
        "plt.plot(history.history['val_accuracy'])\n",
        "plt.title('model accuracy')\n",
        "plt.ylabel('accuracy')\n",
        "plt.xlabel('epoch')\n",
        "plt.legend(['training', 'validation'], loc='best')\n",
        "plt.show()\n",
        "\n",
        "print(f'Test loss: {loss:.3}')\n",
        "print(f'Test accuracy: {accuracy:.3}')"
      ]
    },
    {
      "cell_type": "code",
      "source": [
        "y_pred=model.predict(X_test)\n",
        "y_pred=np.argmax(y_pred, axis=1)\n",
        "y_test=np.argmax(y_test, axis=1)"
      ],
      "metadata": {
        "id": "0xAl9zoyjjBc"
      },
      "execution_count": null,
      "outputs": []
    },
    {
      "cell_type": "code",
      "source": [
        "cm = metrics.confusion_matrix(y_test, y_pred)\n",
        "print(cm)"
      ],
      "metadata": {
        "colab": {
          "base_uri": "https://localhost:8080/"
        },
        "id": "wlR36sGpkE1G",
        "outputId": "cd5c11df-a5f3-4152-a9ae-151c96c6549c"
      },
      "execution_count": null,
      "outputs": [
        {
          "output_type": "stream",
          "name": "stdout",
          "text": [
            "[[2715   81]\n",
            " [ 238 2211]]\n"
          ]
        }
      ]
    },
    {
      "cell_type": "code",
      "source": [
        "cnf_matrix = metrics.confusion_matrix(y_test, y_pred)\n",
        "cnf_matrix"
      ],
      "metadata": {
        "colab": {
          "base_uri": "https://localhost:8080/"
        },
        "id": "gm23Hxt16KW1",
        "outputId": "0d364312-66a0-4961-e332-bfea1ac06f46"
      },
      "execution_count": null,
      "outputs": [
        {
          "output_type": "execute_result",
          "data": {
            "text/plain": [
              "array([[2715,   81],\n",
              "       [ 238, 2211]])"
            ]
          },
          "metadata": {},
          "execution_count": 28
        }
      ]
    },
    {
      "cell_type": "code",
      "source": [
        "class_names=[0,1] # name  of classes\n",
        "fig, ax = plt.subplots(figsize=(8, 8))\n",
        "tick_marks = np.arange(len(class_names))\n",
        "plt.xticks(tick_marks, class_names)\n",
        "plt.yticks(tick_marks, class_names)\n",
        "# create heatmap\n",
        "sns.heatmap(pd.DataFrame(cnf_matrix), annot=True, cmap=\"coolwarm\" ,fmt='g')\n",
        "ax.xaxis.set_label_position(\"top\")\n",
        "plt.tight_layout()\n",
        "plt.title('Confusion Matrix Softmax Function', y=1.1)\n",
        "plt.ylabel('Actual label')\n",
        "plt.xlabel('Predicted label')"
      ],
      "metadata": {
        "colab": {
          "base_uri": "https://localhost:8080/",
          "height": 632
        },
        "id": "nfZuhiqLVm3_",
        "outputId": "f748893a-44bb-477a-8526-3c41e8f38cd1"
      },
      "execution_count": null,
      "outputs": [
        {
          "output_type": "execute_result",
          "data": {
            "text/plain": [
              "Text(0.5, 510.88, 'Predicted label')"
            ]
          },
          "metadata": {},
          "execution_count": 29
        },
        {
          "output_type": "display_data",
          "data": {
            "text/plain": [
              "<Figure size 576x576 with 2 Axes>"
            ],
            "image/png": "[encoded data removed]"
          },
          "metadata": {
            "needs_background": "light"
          }
        }
      ]
    },
    {
      "cell_type": "markdown",
      "metadata": {
        "id": "BC9F0PRhdnqX"
      },
      "source": [
        "#Suppor Vector Machine"
      ]
    },
    {
      "cell_type": "code",
      "source": [
        "SXdata.shape"
      ],
      "metadata": {
        "colab": {
          "base_uri": "https://localhost:8080/"
        },
        "id": "pD7tvWraJbIz",
        "outputId": "104419cc-4a7c-4e2b-d00f-3d81eb70ce13"
      },
      "execution_count": null,
      "outputs": [
        {
          "output_type": "execute_result",
          "data": {
            "text/plain": [
              "(20978, 64, 64)"
            ]
          },
          "metadata": {},
          "execution_count": 30
        }
      ]
    },
    {
      "cell_type": "code",
      "source": [
        "image_size = 4096\n",
        "SXdata = SXdata.reshape(Xdata.shape[0], image_size)"
      ],
      "metadata": {
        "id": "g79Xt_1lNqw7"
      },
      "execution_count": null,
      "outputs": []
    },
    {
      "cell_type": "code",
      "source": [
        "SXdata.shape"
      ],
      "metadata": {
        "colab": {
          "base_uri": "https://localhost:8080/"
        },
        "id": "FClFscR6rMaf",
        "outputId": "bb452605-615a-401b-f9d6-e5a4226ae288"
      },
      "execution_count": null,
      "outputs": [
        {
          "output_type": "execute_result",
          "data": {
            "text/plain": [
              "(20978, 4096)"
            ]
          },
          "metadata": {},
          "execution_count": 32
        }
      ]
    },
    {
      "cell_type": "code",
      "source": [
        "X_train, X_test, y_train, y_test = train_test_split(SXdata, SYdata, test_size=0.2, random_state=100)"
      ],
      "metadata": {
        "id": "Gwn0w3UzrUqY"
      },
      "execution_count": null,
      "outputs": []
    },
    {
      "cell_type": "code",
      "execution_count": null,
      "metadata": {
        "id": "cRqZS68ffZAa"
      },
      "outputs": [],
      "source": [
        "scaler = StandardScaler()\n",
        "scaler.fit(X_train)\n",
        "X_train = scaler.transform(X_train)\n",
        "X_test = scaler.transform(X_test)"
      ]
    },
    {
      "cell_type": "code",
      "execution_count": null,
      "metadata": {
        "id": "S36zs_XVfZtf",
        "colab": {
          "base_uri": "https://localhost:8080/"
        },
        "outputId": "286b92ed-d53b-4a4d-c00c-d25de4922fd6"
      },
      "outputs": [
        {
          "output_type": "execute_result",
          "data": {
            "text/plain": [
              "SVC(C=1)"
            ]
          },
          "metadata": {},
          "execution_count": 35
        }
      ],
      "source": [
        "from sklearn.svm import SVC\n",
        "\n",
        "workingSVC = SVC(kernel='rbf', C=1)\n",
        "workingSVC.fit(X_train,y_train)"
      ]
    },
    {
      "cell_type": "code",
      "execution_count": null,
      "metadata": {
        "id": "npXSlgKsf2Ed",
        "colab": {
          "base_uri": "https://localhost:8080/"
        },
        "outputId": "855add60-0daa-4937-a232-fd6c74f7dc9f"
      },
      "outputs": [
        {
          "output_type": "stream",
          "name": "stdout",
          "text": [
            "              precision    recall  f1-score   support\n",
            "\n",
            "           0       0.96      0.97      0.96      2197\n",
            "           1       0.97      0.95      0.96      1999\n",
            "\n",
            "    accuracy                           0.96      4196\n",
            "   macro avg       0.96      0.96      0.96      4196\n",
            "weighted avg       0.96      0.96      0.96      4196\n",
            "\n"
          ]
        }
      ],
      "source": [
        "y_pred = workingSVC.predict(X_test)\n",
        "print(metrics.classification_report(y_test, y_pred))"
      ]
    },
    {
      "cell_type": "code",
      "source": [
        "y_pred = workingSVC.predict(X_test)\n",
        "workingSVC.score(X_test, y_test)"
      ],
      "metadata": {
        "colab": {
          "base_uri": "https://localhost:8080/"
        },
        "id": "lYudzqZkkkQO",
        "outputId": "58a27001-c108-400c-fe74-2da24132c9bd"
      },
      "execution_count": null,
      "outputs": [
        {
          "output_type": "execute_result",
          "data": {
            "text/plain": [
              "0.9628217349857007"
            ]
          },
          "metadata": {},
          "execution_count": 37
        }
      ]
    },
    {
      "cell_type": "code",
      "source": [
        "cnf_matrix = metrics.confusion_matrix(y_test, y_pred)\n",
        "cnf_matrix"
      ],
      "metadata": {
        "colab": {
          "base_uri": "https://localhost:8080/"
        },
        "id": "QAtoecfbk2g6",
        "outputId": "432b26df-e91f-43d3-d4ff-dc512704d417"
      },
      "execution_count": null,
      "outputs": [
        {
          "output_type": "execute_result",
          "data": {
            "text/plain": [
              "array([[2135,   62],\n",
              "       [  94, 1905]])"
            ]
          },
          "metadata": {},
          "execution_count": 38
        }
      ]
    },
    {
      "cell_type": "code",
      "source": [
        "class_names=[0,1] # name  of classes\n",
        "fig, ax = plt.subplots(figsize=(8, 8))\n",
        "tick_marks = np.arange(len(class_names))\n",
        "plt.xticks(tick_marks, class_names)\n",
        "plt.yticks(tick_marks, class_names)\n",
        "# create heatmap\n",
        "sns.heatmap(pd.DataFrame(cnf_matrix), annot=True, cmap=\"coolwarm\" ,fmt='g')\n",
        "ax.xaxis.set_label_position(\"top\")\n",
        "plt.tight_layout()\n",
        "plt.title('Confusion Matrix Softmax Function', y=1.1)\n",
        "plt.ylabel('Actual label')\n",
        "plt.xlabel('Predicted label')"
      ],
      "metadata": {
        "colab": {
          "base_uri": "https://localhost:8080/",
          "height": 632
        },
        "id": "i22NSy5Lk78w",
        "outputId": "455ebc06-49bd-4f02-dda4-c27ed5872b72"
      },
      "execution_count": null,
      "outputs": [
        {
          "output_type": "execute_result",
          "data": {
            "text/plain": [
              "Text(0.5, 510.88, 'Predicted label')"
            ]
          },
          "metadata": {},
          "execution_count": 39
        },
        {
          "output_type": "display_data",
          "data": {
            "text/plain": [
              "<Figure size 576x576 with 2 Axes>"
            ],
            "image/png": "[encoded data removed]"
          },
          "metadata": {
            "needs_background": "light"
          }
        }
      ]
    },
    {
      "cell_type": "markdown",
      "metadata": {
        "id": "bmP2rsLfRmZR"
      },
      "source": [
        "#Improved CNN"
      ]
    },
    {
      "cell_type": "code",
      "execution_count": null,
      "metadata": {
        "id": "rM44dC8sMsHl"
      },
      "outputs": [],
      "source": [
        "import keras\n",
        "from keras.datasets import mnist\n",
        "from keras.layers import Dense\n",
        "from keras.models import Sequential\n",
        "from keras.layers import Dropout\n",
        "from keras.preprocessing.image import ImageDataGenerator\n",
        "from keras.layers import Activation, Conv2D, MaxPooling2D, ZeroPadding2D, GlobalAveragePooling2D, Flatten\n",
        "from tensorflow.keras.layers import BatchNormalization"
      ]
    },
    {
      "cell_type": "code",
      "execution_count": null,
      "metadata": {
        "id": "6xeZX-msLUev"
      },
      "outputs": [],
      "source": [
        "X_train, X_test, y_train, y_test = train_test_split(CXdata, CYdata, test_size=0.25, random_state=1)"
      ]
    },
    {
      "cell_type": "code",
      "execution_count": null,
      "metadata": {
        "id": "ElhMbD5wLZE3"
      },
      "outputs": [],
      "source": [
        "model = Sequential()                                 # Linear stacking of layers\n",
        "\n",
        "# Convolution Layer 1\n",
        "model.add(Conv2D(32, (3, 3), input_shape=(64,64,1))) # 32 different 3x3 kernels -- so 32 feature maps\n",
        "model.add(BatchNormalization(axis=-1))               # normalize each feature map before activation\n",
        "convLayer01 = Activation('relu')                     # activation\n",
        "model.add(convLayer01)\n",
        "\n",
        "# Convolution Layer 2\n",
        "model.add(Conv2D(32, (3, 3)))                        # 32 different 3x3 kernels -- so 32 feature maps\n",
        "model.add(BatchNormalization(axis=-1))               # normalize each feature map before activation\n",
        "model.add(Activation('relu'))                        # activation\n",
        "convLayer02 = MaxPooling2D(pool_size=(2,2))          # Pool the max values over a 2x2 kernel\n",
        "model.add(convLayer02)\n",
        "\n",
        "\n",
        "\n",
        "model.add(Conv2D(64,(3, 3)))\n",
        "model.add(BatchNormalization(axis=-1))\n",
        "convLayer03 = Activation('relu')\n",
        "model.add(convLayer03)\n",
        "\n",
        "\n",
        "model.add(Conv2D(64, (3, 3)))\n",
        "model.add(BatchNormalization(axis=-1))\n",
        "model.add(Activation('relu'))\n",
        "convLayer04 = MaxPooling2D(pool_size=(2,2))\n",
        "model.add(convLayer04)\n",
        "model.add(Flatten())\n",
        "\n",
        "\n",
        "model.add(Dense(512))\n",
        "model.add(BatchNormalization())\n",
        "model.add(Activation('relu'))\n",
        "\n",
        "\n",
        "model.add(Dense(512))\n",
        "model.add(BatchNormalization())\n",
        "model.add(Activation('relu'))\n",
        "\n",
        "\n",
        "model.add(Dropout(0.1))\n",
        "model.add(Dense(2))\n",
        "model.add(Activation('softmax'))"
      ]
    },
    {
      "cell_type": "code",
      "execution_count": null,
      "metadata": {
        "colab": {
          "base_uri": "https://localhost:8080/"
        },
        "id": "QS4e9f8_gLd_",
        "outputId": "ee8bcfa5-ad92-4c1b-a5e1-e7ce3b258aa7"
      },
      "outputs": [
        {
          "output_type": "stream",
          "name": "stdout",
          "text": [
            "Model: \"sequential_1\"\n",
            "_________________________________________________________________\n",
            " Layer (type)                Output Shape              Param #   \n",
            "=================================================================\n",
            " conv2d (Conv2D)             (None, 62, 62, 32)        320       \n",
            "                                                                 \n",
            " batch_normalization (BatchN  (None, 62, 62, 32)       128       \n",
            " ormalization)                                                   \n",
            "                                                                 \n",
            " activation (Activation)     (None, 62, 62, 32)        0         \n",
            "                                                                 \n",
            " conv2d_1 (Conv2D)           (None, 60, 60, 32)        9248      \n",
            "                                                                 \n",
            " batch_normalization_1 (Batc  (None, 60, 60, 32)       128       \n",
            " hNormalization)                                                 \n",
            "                                                                 \n",
            " activation_1 (Activation)   (None, 60, 60, 32)        0         \n",
            "                                                                 \n",
            " max_pooling2d (MaxPooling2D  (None, 30, 30, 32)       0         \n",
            " )                                                               \n",
            "                                                                 \n",
            " conv2d_2 (Conv2D)           (None, 28, 28, 64)        18496     \n",
            "                                                                 \n",
            " batch_normalization_2 (Batc  (None, 28, 28, 64)       256       \n",
            " hNormalization)                                                 \n",
            "                                                                 \n",
            " activation_2 (Activation)   (None, 28, 28, 64)        0         \n",
            "                                                                 \n",
            " conv2d_3 (Conv2D)           (None, 26, 26, 64)        36928     \n",
            "                                                                 \n",
            " batch_normalization_3 (Batc  (None, 26, 26, 64)       256       \n",
            " hNormalization)                                                 \n",
            "                                                                 \n",
            " activation_3 (Activation)   (None, 26, 26, 64)        0         \n",
            "                                                                 \n",
            " max_pooling2d_1 (MaxPooling  (None, 13, 13, 64)       0         \n",
            " 2D)                                                             \n",
            "                                                                 \n",
            " flatten (Flatten)           (None, 10816)             0         \n",
            "                                                                 \n",
            " dense_3 (Dense)             (None, 512)               5538304   \n",
            "                                                                 \n",
            " batch_normalization_4 (Batc  (None, 512)              2048      \n",
            " hNormalization)                                                 \n",
            "                                                                 \n",
            " activation_4 (Activation)   (None, 512)               0         \n",
            "                                                                 \n",
            " dense_4 (Dense)             (None, 512)               262656    \n",
            "                                                                 \n",
            " batch_normalization_5 (Batc  (None, 512)              2048      \n",
            " hNormalization)                                                 \n",
            "                                                                 \n",
            " activation_5 (Activation)   (None, 512)               0         \n",
            "                                                                 \n",
            " dropout (Dropout)           (None, 512)               0         \n",
            "                                                                 \n",
            " dense_5 (Dense)             (None, 2)                 1026      \n",
            "                                                                 \n",
            " activation_6 (Activation)   (None, 2)                 0         \n",
            "                                                                 \n",
            "=================================================================\n",
            "Total params: 5,871,842\n",
            "Trainable params: 5,869,410\n",
            "Non-trainable params: 2,432\n",
            "_________________________________________________________________\n"
          ]
        }
      ],
      "source": [
        "model.summary()"
      ]
    },
    {
      "cell_type": "code",
      "execution_count": null,
      "metadata": {
        "id": "n9lsI1u2gOHV"
      },
      "outputs": [],
      "source": [
        "model.compile(loss='categorical_crossentropy', optimizer='adam', metrics=['accuracy'])"
      ]
    },
    {
      "cell_type": "code",
      "execution_count": null,
      "metadata": {
        "id": "NtYqPT8fin97"
      },
      "outputs": [],
      "source": [
        "gen = ImageDataGenerator(rotation_range=8, width_shift_range=0.08, shear_range=0.3,\n",
        "                         height_shift_range=0.08, zoom_range=0.08)\n",
        "\n",
        "test_gen = ImageDataGenerator()"
      ]
    },
    {
      "cell_type": "code",
      "execution_count": null,
      "metadata": {
        "colab": {
          "base_uri": "https://localhost:8080/"
        },
        "id": "ZwjpiKi8VTeL",
        "outputId": "b44635b9-cc54-4499-8dc8-d6a1bd5cd3cc"
      },
      "outputs": [
        {
          "output_type": "execute_result",
          "data": {
            "text/plain": [
              "(15733, 64, 64, 1)"
            ]
          },
          "metadata": {},
          "execution_count": 46
        }
      ],
      "source": [
        "X_train.shape"
      ]
    },
    {
      "cell_type": "code",
      "execution_count": null,
      "metadata": {
        "id": "Z1xQwlpkgQvl"
      },
      "outputs": [],
      "source": [
        "train_generator = gen.flow(X_train, y_train, batch_size=128)\n",
        "test_generator = test_gen.flow(X_test, y_test, batch_size=128)"
      ]
    },
    {
      "cell_type": "code",
      "execution_count": null,
      "metadata": {
        "colab": {
          "base_uri": "https://localhost:8080/"
        },
        "id": "fLoUb9GCMynR",
        "outputId": "0c913fb2-cb75-4524-836e-c3a68a8a082b"
      },
      "outputs": [
        {
          "output_type": "stream",
          "name": "stdout",
          "text": [
            "Epoch 1/20\n",
            "107/107 [==============================] - 252s 2s/step - loss: 0.1297 - accuracy: 0.9484 - val_loss: 0.6152 - val_accuracy: 0.7500\n",
            "Epoch 2/20\n",
            "107/107 [==============================] - 250s 2s/step - loss: 0.0828 - accuracy: 0.9678 - val_loss: 2.4122 - val_accuracy: 0.6026\n",
            "Epoch 3/20\n",
            "107/107 [==============================] - 253s 2s/step - loss: 0.0671 - accuracy: 0.9720 - val_loss: 1.8060 - val_accuracy: 0.5839\n",
            "Epoch 4/20\n",
            "107/107 [==============================] - 253s 2s/step - loss: 0.0595 - accuracy: 0.9727 - val_loss: 0.0667 - val_accuracy: 0.9672\n",
            "Epoch 5/20\n",
            "107/107 [==============================] - 252s 2s/step - loss: 0.0533 - accuracy: 0.9752 - val_loss: 0.0430 - val_accuracy: 0.9755\n",
            "Epoch 6/20\n",
            "107/107 [==============================] - 251s 2s/step - loss: 0.0488 - accuracy: 0.9760 - val_loss: 0.1000 - val_accuracy: 0.9604\n",
            "Epoch 7/20\n",
            "107/107 [==============================] - 252s 2s/step - loss: 0.0530 - accuracy: 0.9750 - val_loss: 0.1243 - val_accuracy: 0.9406\n",
            "Epoch 8/20\n",
            "107/107 [==============================] - 254s 2s/step - loss: 0.0486 - accuracy: 0.9770 - val_loss: 0.0824 - val_accuracy: 0.9703\n",
            "Epoch 9/20\n",
            "107/107 [==============================] - 252s 2s/step - loss: 0.0470 - accuracy: 0.9758 - val_loss: 0.1449 - val_accuracy: 0.9536\n",
            "Epoch 10/20\n",
            "107/107 [==============================] - 250s 2s/step - loss: 0.0407 - accuracy: 0.9779 - val_loss: 0.0637 - val_accuracy: 0.9714\n",
            "Epoch 11/20\n",
            "107/107 [==============================] - 251s 2s/step - loss: 0.0378 - accuracy: 0.9796 - val_loss: 0.0810 - val_accuracy: 0.9609\n",
            "Epoch 12/20\n",
            "107/107 [==============================] - 253s 2s/step - loss: 0.0361 - accuracy: 0.9806 - val_loss: 0.0942 - val_accuracy: 0.9573\n",
            "Epoch 13/20\n",
            "107/107 [==============================] - 252s 2s/step - loss: 0.0380 - accuracy: 0.9798 - val_loss: 0.0441 - val_accuracy: 0.9703\n",
            "Epoch 14/20\n",
            "107/107 [==============================] - 252s 2s/step - loss: 0.0327 - accuracy: 0.9800 - val_loss: 0.0889 - val_accuracy: 0.9589\n",
            "Epoch 15/20\n",
            "107/107 [==============================] - 252s 2s/step - loss: 0.0477 - accuracy: 0.9763 - val_loss: 0.1559 - val_accuracy: 0.9391\n",
            "Epoch 16/20\n",
            "107/107 [==============================] - 252s 2s/step - loss: 0.0358 - accuracy: 0.9795 - val_loss: 0.0457 - val_accuracy: 0.9745\n",
            "Epoch 17/20\n",
            "107/107 [==============================] - 252s 2s/step - loss: 0.0346 - accuracy: 0.9798 - val_loss: 0.0491 - val_accuracy: 0.9786\n",
            "Epoch 18/20\n",
            "107/107 [==============================] - 252s 2s/step - loss: 0.0336 - accuracy: 0.9798 - val_loss: 0.0768 - val_accuracy: 0.9594\n",
            "Epoch 19/20\n",
            "107/107 [==============================] - 253s 2s/step - loss: 0.0333 - accuracy: 0.9806 - val_loss: 0.0512 - val_accuracy: 0.9693\n",
            "Epoch 20/20\n",
            "107/107 [==============================] - 252s 2s/step - loss: 0.0322 - accuracy: 0.9801 - val_loss: 0.0455 - val_accuracy: 0.9734\n"
          ]
        },
        {
          "output_type": "execute_result",
          "data": {
            "text/plain": [
              "<keras.callbacks.History at 0x7f99db141990>"
            ]
          },
          "metadata": {},
          "execution_count": 48
        }
      ],
      "source": [
        "model.fit(train_generator, steps_per_epoch=13733//128, epochs=20, verbose=1,\n",
        "                    validation_data=test_generator, validation_steps=2000//128)"
      ]
    },
    {
      "cell_type": "code",
      "source": [
        "plt.plot(history.history['accuracy'])\n",
        "plt.plot(history.history['val_accuracy'])\n",
        "plt.title('model accuracy')\n",
        "plt.ylabel('accuracy')\n",
        "plt.xlabel('epoch')\n",
        "plt.legend(['training', 'validation'], loc='best')\n",
        "plt.show()\n",
        "\n",
        "print(f'Test loss: {loss:.3}')\n",
        "print(f'Test accuracy: {accuracy:.3}')"
      ],
      "metadata": {
        "colab": {
          "base_uri": "https://localhost:8080/",
          "height": 336
        },
        "id": "iutNXj2CtKlT",
        "outputId": "349bc75c-f85c-40b7-e32a-cd638befd286"
      },
      "execution_count": null,
      "outputs": [
        {
          "output_type": "display_data",
          "data": {
            "text/plain": [
              "<Figure size 432x288 with 1 Axes>"
            ],
            "image/png": "[encoded data removed]"
          },
          "metadata": {
            "needs_background": "light"
          }
        },
        {
          "output_type": "stream",
          "name": "stdout",
          "text": [
            "Test loss: 0.198\n",
            "Test accuracy: 0.939\n"
          ]
        }
      ]
    },
    {
      "cell_type": "code",
      "source": [
        "y_pred=model.predict(X_test)\n",
        "y_pred=np.argmax(y_pred, axis=1)\n",
        "y_test=np.argmax(y_test, axis=1)"
      ],
      "metadata": {
        "id": "ev1fhW88l90B"
      },
      "execution_count": null,
      "outputs": []
    },
    {
      "cell_type": "code",
      "source": [
        "cm = metrics.confusion_matrix(y_test, y_pred)\n",
        "print(cm)"
      ],
      "metadata": {
        "colab": {
          "base_uri": "https://localhost:8080/"
        },
        "id": "QdW_u3tLmCPT",
        "outputId": "1d441de9-f74f-4a41-858f-8746e789e476"
      },
      "execution_count": null,
      "outputs": [
        {
          "output_type": "stream",
          "name": "stdout",
          "text": [
            "[[2693  103]\n",
            " [  31 2418]]\n"
          ]
        }
      ]
    },
    {
      "cell_type": "code",
      "source": [
        "class_names=[0,1] # name  of classes\n",
        "fig, ax = plt.subplots(figsize=(8, 8))\n",
        "tick_marks = np.arange(len(class_names))\n",
        "plt.xticks(tick_marks, class_names)\n",
        "plt.yticks(tick_marks, class_names)\n",
        "# create heatmap\n",
        "sns.heatmap(pd.DataFrame(cm), annot=True, cmap=\"coolwarm\" ,fmt='g')\n",
        "ax.xaxis.set_label_position(\"top\")\n",
        "plt.tight_layout()\n",
        "plt.title('Confusion Matrix Softmax Function', y=1.1)\n",
        "plt.ylabel('Actual label')\n",
        "plt.xlabel('Predicted label')"
      ],
      "metadata": {
        "colab": {
          "base_uri": "https://localhost:8080/",
          "height": 632
        },
        "id": "WcNu1mxNmE9M",
        "outputId": "ef60a9aa-6a2f-4478-f10c-ba6e13bd5400"
      },
      "execution_count": null,
      "outputs": [
        {
          "output_type": "execute_result",
          "data": {
            "text/plain": [
              "Text(0.5, 510.88, 'Predicted label')"
            ]
          },
          "metadata": {},
          "execution_count": 56
        },
        {
          "output_type": "display_data",
          "data": {
            "text/plain": [
              "<Figure size 576x576 with 2 Axes>"
            ],
            "image/png": "[encoded data removed]"
          },
          "metadata": {
            "needs_background": "light"
          }
        }
      ]
    },
    {
      "cell_type": "markdown",
      "metadata": {
        "id": "gDL8M6t2RgBM"
      },
      "source": [
        "#Convolutional Neural Network"
      ]
    }
  ],
  "metadata": {
    "colab": {
      "collapsed_sections": [
        "BC9F0PRhdnqX"
      ],
      "provenance": []
    },
    "kernelspec": {
      "display_name": "Python 3",
      "name": "python3"
    },
    "language_info": {
      "name": "python"
    }
  },
  "nbformat": 4,
  "nbformat_minor": 0
}